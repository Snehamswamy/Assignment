{
 "cells": [
  {
   "cell_type": "markdown",
   "id": "13aeaafa",
   "metadata": {},
   "source": [
    "# Assignment2 : Take a string input and print the number of occurrences of each character."
   ]
  },
  {
   "cell_type": "code",
   "execution_count": 1,
   "id": "ca73bb17",
   "metadata": {},
   "outputs": [
    {
     "name": "stdout",
     "output_type": "stream",
     "text": [
      "Enter the string :letsupgrade\n",
      "The number of occurrences of the string is  {'l': 1, 'e': 2, 't': 1, 's': 1, 'u': 1, 'p': 1, 'g': 1, 'r': 1, 'a': 1, 'd': 1}\n"
     ]
    }
   ],
   "source": [
    "def char_frequency(str1):\n",
    "   dict={}\n",
    "   for n in str1:\n",
    "      keys = dict.keys()\n",
    "      if n in keys:\n",
    "        dict[n] += 1\n",
    "      else:\n",
    "        dict[n] = 1\n",
    "   return dict\n",
    "ip = input(\"Enter the string :\")\n",
    "print(\"The number of occurrences of the string is \",char_frequency(ip))"
   ]
  },
  {
   "cell_type": "code",
   "execution_count": 2,
   "id": "aca35934",
   "metadata": {},
   "outputs": [
    {
     "name": "stdout",
     "output_type": "stream",
     "text": [
      "The value of h-1 e-1 l-2 l-2 o-1\n"
     ]
    }
   ],
   "source": [
    "a=\"hello\"\n",
    "x=a.count(\"h\")\n",
    "y=a.count(\"e\")\n",
    "z=a.count(\"l\")\n",
    "xy=a.count(\"l\")\n",
    "xz=a.count(\"o\")\n",
    "txt=(\"The value of h-{} e-{} l-{} l-{} o-{}\").format(x,y,z,xy,xz)\n",
    "print(txt)"
   ]
  }
 ],
 "metadata": {
  "kernelspec": {
   "display_name": "Python 3",
   "language": "python",
   "name": "python3"
  },
  "language_info": {
   "codemirror_mode": {
    "name": "ipython",
    "version": 3
   },
   "file_extension": ".py",
   "mimetype": "text/x-python",
   "name": "python",
   "nbconvert_exporter": "python",
   "pygments_lexer": "ipython3",
   "version": "3.8.8"
  }
 },
 "nbformat": 4,
 "nbformat_minor": 5
}
