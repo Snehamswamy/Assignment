{
 "cells": [
  {
   "cell_type": "markdown",
   "id": "0c9cb182",
   "metadata": {},
   "source": [
    "# Assignment3 : Implement a decorator mod_div() which assures that the numerator is always greater than the denominator"
   ]
  },
  {
   "cell_type": "code",
   "execution_count": 4,
   "id": "62b074cf",
   "metadata": {},
   "outputs": [
    {
     "name": "stdout",
     "output_type": "stream",
     "text": [
      "Enter the first number:2\n",
      "Enter the second number:4\n",
      "2.0\n"
     ]
    }
   ],
   "source": [
    "def mod_div(num,deno):\n",
    "    if(deno>num):\n",
    "        num,deno=deno,num\n",
    "    else:\n",
    "        num,deno=num,deno\n",
    "    return num/deno\n",
    "num1=float(input(\"Enter the first number:\"))\n",
    "num2=float(input(\"Enter the second number:\"))\n",
    "main=mod_div(num1,num2)\n",
    "print(main)"
   ]
  },
  {
   "cell_type": "markdown",
   "id": "8f57689e",
   "metadata": {},
   "source": [
    "# Project :WAP to generate everytime a 6 character OTP"
   ]
  },
  {
   "cell_type": "code",
   "execution_count": 6,
   "id": "8ff101d3",
   "metadata": {},
   "outputs": [
    {
     "name": "stdout",
     "output_type": "stream",
     "text": [
      "818330\n"
     ]
    }
   ],
   "source": [
    "import random                          \n",
    "import math\n",
    "digits = [i for i in range(0, 10)]     \n",
    "random_str = ''                      \n",
    "for i in range(6):                      \n",
    "   otp = math.floor((random.random()) * 10)        \n",
    "   random_str += str(digits[otp])\n",
    "\n",
    "\n",
    "print(random_str)                                    "
   ]
  },
  {
   "cell_type": "code",
   "execution_count": null,
   "id": "cfc5aed3",
   "metadata": {},
   "outputs": [],
   "source": []
  }
 ],
 "metadata": {
  "kernelspec": {
   "display_name": "Python 3",
   "language": "python",
   "name": "python3"
  },
  "language_info": {
   "codemirror_mode": {
    "name": "ipython",
    "version": 3
   },
   "file_extension": ".py",
   "mimetype": "text/x-python",
   "name": "python",
   "nbconvert_exporter": "python",
   "pygments_lexer": "ipython3",
   "version": "3.8.8"
  }
 },
 "nbformat": 4,
 "nbformat_minor": 5
}
